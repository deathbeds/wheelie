{
 "cells": [
  {
   "cell_type": "code",
   "execution_count": 2,
   "metadata": {},
   "outputs": [
    {
     "name": "stdout",
     "output_type": "stream",
     "text": [
      "[NbConvertApp] Converting notebook wheelie/exporter.ipynb to black\n",
      "[NbConvertApp] Writing 561 bytes to wheelie/exporter.py\n",
      "[NbConvertApp] Converting notebook wheelie/setup.ipynb to black\n",
      "[NbConvertApp] Writing 1205 bytes to wheelie/setup.py\n",
      "[NbConvertApp] Converting notebook wheelie/wheelie.ipynb to black\n",
      "[NbConvertApp] Writing 5209 bytes to wheelie/wheelie.py\n"
     ]
    }
   ],
   "source": [
    "if __name__ == '__main__':\n",
    "    !source activate p6 && jupyter nbconvert --to black `ls **/*.ipynb`"
   ]
  },
  {
   "cell_type": "code",
   "execution_count": null,
   "metadata": {},
   "outputs": [],
   "source": []
  }
 ],
 "metadata": {
  "kernelspec": {
   "display_name": "p6",
   "language": "python",
   "name": "other-env"
  },
  "language_info": {
   "codemirror_mode": {
    "name": "ipython",
    "version": 3
   },
   "file_extension": ".py",
   "mimetype": "text/x-python",
   "name": "python",
   "nbconvert_exporter": "python",
   "pygments_lexer": "ipython3",
   "version": "3.6.3"
  }
 },
 "nbformat": 4,
 "nbformat_minor": 2
}
