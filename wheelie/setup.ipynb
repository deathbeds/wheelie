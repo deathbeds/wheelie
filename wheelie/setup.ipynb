{
 "cells": [
  {
   "cell_type": "code",
   "execution_count": 2,
   "metadata": {},
   "outputs": [],
   "source": [
    "import sys, nbconvert.nbconvertapp, tempfile, setuptools.command, wheel.bdist_wheel\n",
    "from traitlets import *\n",
    "from pathlib import Path\n",
    "import json\n",
    "import shutil\n",
    "import os"
   ]
  },
  {
   "cell_type": "code",
   "execution_count": 6,
   "metadata": {},
   "outputs": [],
   "source": [
    "def setup(\n",
    "    name, \n",
    "    dir, \n",
    "    wheel_dir=None,\n",
    "    defaults=dict(\n",
    "        version='0.0.1',\n",
    "        description='A Package automatically created from notebooks.',\n",
    "        zip_safe=False,\n",
    "    ), **dict\n",
    "):\n",
    "    class bdist_wheel(wheel.bdist_wheel.bdist_wheel):\n",
    "        def initialize_options(self):\n",
    "            wheel.bdist_wheel.bdist_wheel.initialize_options(self)\n",
    "            self.dist_dir =  str(Path(wheel_dir))\n",
    "            self.bdist_dir = str(dir.parent) + '/build' \n",
    "        \n",
    "        def run(self):\n",
    "            wheel.bdist_wheel.bdist_wheel.run(self)\n",
    "            self.distribution.wheel_info = self.get_archive_basename() + '.whl'\n",
    "                                    \n",
    "    return setuptools.Distribution({\n",
    "            **defaults, \n",
    "            **dict,\n",
    "            'name': name, \n",
    "            'packages': setuptools.find_packages(where=dir.parent),\n",
    "            'package_dir': {'': str(dir.parent)},\n",
    "            'script_name': 'python',\n",
    "            'cmdclass': {'bdist_wheel': bdist_wheel},\n",
    "        })"
   ]
  },
  {
   "cell_type": "code",
   "execution_count": null,
   "metadata": {},
   "outputs": [],
   "source": [
    "if __name__ == '__main__':\n",
    "    !jupyter nbconvert --to python setup.ipynb"
   ]
  },
  {
   "cell_type": "code",
   "execution_count": null,
   "metadata": {},
   "outputs": [],
   "source": []
  }
 ],
 "metadata": {
  "kernelspec": {
   "display_name": "p6",
   "language": "python",
   "name": "other-env"
  },
  "language_info": {
   "codemirror_mode": {
    "name": "ipython",
    "version": 3
   },
   "file_extension": ".py",
   "mimetype": "text/x-python",
   "name": "python",
   "nbconvert_exporter": "python",
   "pygments_lexer": "ipython3",
   "version": "3.6.3"
  },
  "varInspector": {
   "cols": {
    "lenName": 16,
    "lenType": 16,
    "lenVar": 40
   },
   "kernels_config": {
    "python": {
     "delete_cmd_postfix": "",
     "delete_cmd_prefix": "del ",
     "library": "var_list.py",
     "varRefreshCmd": "print(var_dic_list())"
    },
    "r": {
     "delete_cmd_postfix": ") ",
     "delete_cmd_prefix": "rm(",
     "library": "var_list.r",
     "varRefreshCmd": "cat(var_dic_list()) "
    }
   },
   "types_to_exclude": [
    "module",
    "function",
    "builtin_function_or_method",
    "instance",
    "_Feature"
   ],
   "window_display": false
  }
 },
 "nbformat": 4,
 "nbformat_minor": 2
}
