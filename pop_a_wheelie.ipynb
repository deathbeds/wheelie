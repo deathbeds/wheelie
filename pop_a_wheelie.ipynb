{
 "cells": [
  {
   "cell_type": "code",
   "execution_count": 5,
   "metadata": {},
   "outputs": [],
   "source": [
    "def test_import():\n",
    "    import wheelie"
   ]
  },
  {
   "cell_type": "markdown",
   "metadata": {},
   "source": [
    "app = WheelApp(config=config.Config({\n",
    "    'WheelApp': {\n",
    "        'notebooks': ['Untitled121.ipynb', 'Untitled120.ipynb'],\n",
    "    }, \n",
    "}), name='wheelin', version='0.0.1', python_files=['__init__.py'], package_data=[\n",
    "    'data.txt', 'requirements.txt'\n",
    "], include_package_data=True)\n",
    "\n",
    "\n",
    "\n",
    "app.initialize(argv=tuple())\n",
    "wheel_name = app.convert_notebooks()"
   ]
  }
 ],
 "metadata": {
  "kernelspec": {
   "display_name": "p6",
   "language": "python",
   "name": "other-env"
  },
  "language_info": {
   "codemirror_mode": {
    "name": "ipython",
    "version": 3
   },
   "file_extension": ".py",
   "mimetype": "text/x-python",
   "name": "python",
   "nbconvert_exporter": "python",
   "pygments_lexer": "ipython3",
   "version": "3.6.3"
  },
  "varInspector": {
   "cols": {
    "lenName": 16,
    "lenType": 16,
    "lenVar": 40
   },
   "kernels_config": {
    "python": {
     "delete_cmd_postfix": "",
     "delete_cmd_prefix": "del ",
     "library": "var_list.py",
     "varRefreshCmd": "print(var_dic_list())"
    },
    "r": {
     "delete_cmd_postfix": ") ",
     "delete_cmd_prefix": "rm(",
     "library": "var_list.r",
     "varRefreshCmd": "cat(var_dic_list()) "
    }
   },
   "types_to_exclude": [
    "module",
    "function",
    "builtin_function_or_method",
    "instance",
    "_Feature"
   ],
   "window_display": false
  }
 },
 "nbformat": 4,
 "nbformat_minor": 2
}
