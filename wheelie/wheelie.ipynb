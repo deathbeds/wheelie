{
 "cells": [
  {
   "cell_type": "code",
   "execution_count": 1,
   "metadata": {},
   "outputs": [],
   "source": [
    "try:\n",
    "    from . import setup\n",
    "    from . import exporter\n",
    "except: \n",
    "    import setup, exporter\n",
    "    \n",
    "from IPython import get_ipython\n",
    "\n",
    "import shutil, nbconvert.nbconvertapp, tempfile, wheel.bdist_wheel\n",
    "from traitlets import *\n",
    "from pathlib import Path\n",
    "from itertools import chain\n",
    "from distutils.errors import DistutilsError\n",
    "try: \n",
    "    from pip.commands import install as pip_installer\n",
    "except:\n",
    "    from pip._internal.commands import install as pip_installer"
   ]
  },
  {
   "cell_type": "code",
   "execution_count": 2,
   "metadata": {},
   "outputs": [],
   "source": [
    "nbconvert.nbconvertapp.NbConvertApp.export_format.default_value = 'exporter.BlackExporter' if __name__ == '__main__' else 'black'"
   ]
  },
  {
   "cell_type": "code",
   "execution_count": 3,
   "metadata": {},
   "outputs": [],
   "source": [
    "def move_files_with_parents(build_directory, root, *files, log=None):\n",
    "    for file in map(Path, files):\n",
    "        to = build_directory / file.relative_to(root)\n",
    "        to.parent.mkdir(exist_ok=True)\n",
    "        if to.exists():\n",
    "            log and log.warning(\"\"\"Skipping {file} copy because it has been created from a notebook and is already in the package\"\"\".format(file=file))            \n",
    "        else:\n",
    "            shutil.copy(file, to)\n",
    "            log and log.info(\"\"\"Moving {file} to the package.\"\"\".format(file=file))\n",
    "        \n",
    "def create_modules(build_directory): \n",
    "    for file in filter(Path.is_dir, build_directory.iterdir()):\n",
    "        init = file / '__init__.py'\n",
    "        init.exists() or init.touch()"
   ]
  },
  {
   "cell_type": "code",
   "execution_count": 4,
   "metadata": {},
   "outputs": [],
   "source": [
    "def create_package_data(build_directory, package_data):\n",
    "    from collections import defaultdict\n",
    "    package_data = defaultdict(list)\n",
    "    name = build_directory.stem\n",
    "    for file in build_directory.rglob('*'):\n",
    "        if file.is_file() and file.suffix != '.py':\n",
    "            package_data['.'.join(file.relative_to(build_directory).parent.parts)].append(str(file))\n",
    "    return package_data"
   ]
  },
  {
   "cell_type": "code",
   "execution_count": 5,
   "metadata": {},
   "outputs": [],
   "source": [
    "def install_wheel(wheel):\n",
    "    install = pip_installer.InstallCommand(isolated=True)\n",
    "    install.run(*install.parse_args('{} --no-cache-dir --upgrade'.format(wheel).split()))"
   ]
  },
  {
   "cell_type": "code",
   "execution_count": 6,
   "metadata": {
    "scrolled": false
   },
   "outputs": [],
   "source": [
    "class Wheelie(nbconvert.nbconvertapp.NbConvertApp):\n",
    "    name = Unicode(allow_none=True).tag(config=True)\n",
    "    version = Unicode(default_value=\"\"\"0.0.1\"\"\").tag(config=True)\n",
    "    description = Unicode(default_value=\"\"\"A Package automatically created from notebooks.\"\"\").tag(config=True)\n",
    "    root = Unicode(default_value='.').tag(config=True)\n",
    "    output = Unicode('.').tag(config=True)\n",
    "    install = Bool(default_value=False).tag(config=True)\n",
    "    python_files = List(default_value=[])\n",
    "    package_data = List(default_value=[])\n",
    "    test = Unicode(allow_none=True)\n",
    "    \n",
    "    def init_notebooks(self):\n",
    "        super().init_notebooks()\n",
    "        self.notebooks = list(filter(\n",
    "            bool,\n",
    "            (\n",
    "                file if file.endswith('.ipynb') \n",
    "                else self.python_files.append(file) if file.endswith('.py') \n",
    "                else self.package_data.append(file)\n",
    "                for file in self.notebooks)))\n",
    "    \n",
    "    def convert_notebooks(self):\n",
    "        wheel.bdist_wheel.logger = self.log\n",
    "        \n",
    "        self.notebooks = [str(Path(self.root)/notebook) for notebook in self.notebooks]\n",
    "        self.exporter = nbconvert.get_exporter(self.export_format)(config=self.config)\n",
    "        self.initialize(argv=tuple())\n",
    "        with tempfile.TemporaryDirectory() as path:\n",
    "            path = Path(path)\n",
    "            build_directory = path / self.name\n",
    "                        \n",
    "            for notebook in self.notebooks:\n",
    "                self.writer = nbconvert.writers.files.FilesWriter(\n",
    "                    build_directory=str((build_directory / notebook).parent))\n",
    "                self.convert_single_notebook(notebook)\n",
    "            \n",
    "            \n",
    "            move_files_with_parents(build_directory, self.root, *self.python_files, *self.package_data, log=self.log)\n",
    "            create_modules(build_directory)                        \n",
    "            \n",
    "            opts = {}\n",
    "            if self.test:\n",
    "                opts['test_suite'] = self.test\n",
    "            \n",
    "            distribution = setup.setup(\n",
    "                self.name, build_directory, wheel_dir=self.output,\n",
    "                package_data=create_package_data(build_directory, self.package_data),\n",
    "                version=self.version,\n",
    "                description=self.description,\n",
    "                **opts\n",
    "            ) \n",
    "            if self.test: \n",
    "                distribution.run_command('test')\n",
    "                \n",
    "            distribution.run_command('bdist_wheel')\n",
    "                        \n",
    "        self.log.info(\"\"\"Exporting {0}.\"\"\".format(distribution.wheel_info))\n",
    "        \n",
    "        if self.install:\n",
    "            pip_installer.logger = self.log\n",
    "            install_wheel(distribution.wheel_info)\n",
    "            \n",
    "        return distribution.wheel_info\n",
    "    \n",
    "    __call__ = convert_notebooks\n",
    "    \n",
    "    def __enter__(self): return self\n",
    "    def __exit__(self, *args): self()"
   ]
  },
  {
   "cell_type": "code",
   "execution_count": 7,
   "metadata": {},
   "outputs": [],
   "source": [
    "main = Wheelie.launch_instance\n",
    "\n",
    "if __name__ == '__main__':\n",
    "    Path('wheelie.py').write_text(exporter.BlackExporter().from_filename('wheelie.ipynb')[0])"
   ]
  },
  {
   "cell_type": "markdown",
   "metadata": {},
   "source": [
    "## Context Manager Configuration"
   ]
  },
  {
   "cell_type": "markdown",
   "metadata": {},
   "source": [
    "    with Wheelie() as package:\n",
    "        package.name='testable'\n",
    "        package.notebooks='*.ipynb *.py'.split()\n",
    "        package.output='somewhere'"
   ]
  },
  {
   "cell_type": "markdown",
   "metadata": {},
   "source": [
    "## Function call configuration\n",
    "    \n",
    "    Wheelie(name='testable', notebooks='*.ipynb *.py'.split(), output='somewhere', install=True)()"
   ]
  },
  {
   "cell_type": "markdown",
   "metadata": {},
   "source": [
    "## Command Line configuration"
   ]
  },
  {
   "cell_type": "code",
   "execution_count": null,
   "metadata": {},
   "outputs": [],
   "source": []
  },
  {
   "cell_type": "code",
   "execution_count": null,
   "metadata": {},
   "outputs": [],
   "source": []
  }
 ],
 "metadata": {
  "kernelspec": {
   "display_name": "p6",
   "language": "python",
   "name": "other-env"
  },
  "language_info": {
   "codemirror_mode": {
    "name": "ipython",
    "version": 3
   },
   "file_extension": ".py",
   "mimetype": "text/x-python",
   "name": "python",
   "nbconvert_exporter": "python",
   "pygments_lexer": "ipython3",
   "version": "3.6.3"
  },
  "varInspector": {
   "cols": {
    "lenName": 16,
    "lenType": 16,
    "lenVar": 40
   },
   "kernels_config": {
    "python": {
     "delete_cmd_postfix": "",
     "delete_cmd_prefix": "del ",
     "library": "var_list.py",
     "varRefreshCmd": "print(var_dic_list())"
    },
    "r": {
     "delete_cmd_postfix": ") ",
     "delete_cmd_prefix": "rm(",
     "library": "var_list.r",
     "varRefreshCmd": "cat(var_dic_list()) "
    }
   },
   "types_to_exclude": [
    "module",
    "function",
    "builtin_function_or_method",
    "instance",
    "_Feature"
   ],
   "window_display": false
  }
 },
 "nbformat": 4,
 "nbformat_minor": 2
}
