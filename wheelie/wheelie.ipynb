{
 "cells": [
  {
   "cell_type": "code",
   "execution_count": 1,
   "metadata": {},
   "outputs": [],
   "source": [
    "\n",
    "try:\n",
    "    from . import setup\n",
    "except: \n",
    "    import setup\n",
    "    \n",
    "from IPython import get_ipython"
   ]
  },
  {
   "cell_type": "code",
   "execution_count": 2,
   "metadata": {},
   "outputs": [],
   "source": [
    "import sys, nbconvert.nbconvertapp, tempfile, setuptools.command, wheel.bdist_wheel\n",
    "from traitlets import *\n",
    "from pathlib import Path\n",
    "import json\n",
    "import shutil\n",
    "import os\n",
    "from itertools import chain"
   ]
  },
  {
   "cell_type": "code",
   "execution_count": 3,
   "metadata": {},
   "outputs": [],
   "source": [
    "nbconvert.nbconvertapp.NbConvertApp.export_format.default_value = 'python'"
   ]
  },
  {
   "cell_type": "code",
   "execution_count": 4,
   "metadata": {},
   "outputs": [],
   "source": [
    "def move_files_with_parents(build_directory, root, *files, log=None):\n",
    "    for file in chain(\n",
    "        *(Path(root).glob(file) if '*' in file else (Path(file),) for file in files)\n",
    "    ):\n",
    "        (build_directory/(file).relative_to('.')).parent.mkdir(exist_ok=True)\n",
    "        shutil.copy(\n",
    "            file, build_directory / file.relative_to(root))\n",
    "        log and log.info(\"\"\"Moving {file} to the package.\"\"\".format(file=file))\n",
    "def create_modules(build_directory): \n",
    "    for file in filter(Path.is_dir, build_directory.iterdir()):\n",
    "        init = file / '__init__.py'\n",
    "        init.exists() or init.touch()"
   ]
  },
  {
   "cell_type": "code",
   "execution_count": 5,
   "metadata": {},
   "outputs": [],
   "source": [
    "def create_package_data(build_directory, package_data):\n",
    "    from collections import defaultdict\n",
    "    package_data = defaultdict(list)\n",
    "    name = build_directory.stem\n",
    "    for file in build_directory.rglob('*'):\n",
    "        if file.is_file() and file.suffix != '.py':\n",
    "            package_data['.'.join(file.relative_to(build_directory).parent.parts)].append(str(file))\n",
    "    return package_data"
   ]
  },
  {
   "cell_type": "code",
   "execution_count": 6,
   "metadata": {
    "scrolled": false
   },
   "outputs": [],
   "source": [
    "class WheelApp(nbconvert.nbconvertapp.NbConvertApp):\n",
    "    name = Unicode(allow_none=True).tag(config=True)\n",
    "    version = Unicode(default_value='0.0.1').tag(config=True)\n",
    "    root = Unicode(default_value='.').tag(config=True)\n",
    "    output = Unicode('.').tag(config=True)\n",
    "    \n",
    "    python_files = List(default_value=[]).tag(config=True)\n",
    "    package_data = List(default_value=[]).tag(config=True)\n",
    "    \n",
    "    def convert_notebooks(self):\n",
    "        self.notebooks = [str(Path(self.root)/notebook) for notebook in self.notebooks]\n",
    "        self.exporter = nbconvert.get_exporter(self.export_format)(config=self.config)\n",
    "        self.initialize(argv=tuple())\n",
    "        with tempfile.TemporaryDirectory() as path:\n",
    "            path = Path(path)\n",
    "            build_directory = path / self.name\n",
    "                        \n",
    "            for notebook in self.notebooks:\n",
    "                self.writer = nbconvert.writers.files.FilesWriter(\n",
    "                    build_directory=str((build_directory / notebook).parent))\n",
    "                self.convert_single_notebook(notebook)\n",
    "            \n",
    "            \n",
    "            move_files_with_parents(build_directory, self.root, *self.python_files, *self.package_data)\n",
    "            create_modules(build_directory)                        \n",
    "            \n",
    "            distribution = setup.setup(\n",
    "                self.name, build_directory, wheel_dir=self.output,\n",
    "                package_data=create_package_data(build_directory, self.package_data),\n",
    "                version=self.version)\n",
    "            \n",
    "#             # Add the ability to include python files and data files\n",
    "            \n",
    "                  \n",
    "            distribution.run_command('bdist_wheel')\n",
    "            wheel = Path(self.output) / distribution.wheel_info\n",
    "            self.log.info(\"\"\"{0} created.  \n",
    "Run \"pip install {1} --no-cache-dir --upgrade\" to reuse this package.\"\"\".format(\n",
    "                distribution.wheel_info, wheel\n",
    "            ))\n",
    "            \n",
    "        \n",
    "        \n",
    "        return wheel"
   ]
  },
  {
   "cell_type": "code",
   "execution_count": null,
   "metadata": {},
   "outputs": [],
   "source": [
    "main = WheelApp.launch_instance"
   ]
  },
  {
   "cell_type": "code",
   "execution_count": null,
   "metadata": {},
   "outputs": [],
   "source": [
    "if __name__ == '__main__':\n",
    "    !jupyter nbconvert --to python wheelie.ipynb"
   ]
  },
  {
   "cell_type": "markdown",
   "metadata": {},
   "source": [
    "WheelApp(name='testable', notebooks='*.ipynb **/*.ipynb'.split(), python_files='*.py'.split(), package_data=[], output='somewhere').convert_notebooks()"
   ]
  },
  {
   "cell_type": "code",
   "execution_count": null,
   "metadata": {},
   "outputs": [],
   "source": []
  }
 ],
 "metadata": {
  "kernelspec": {
   "display_name": "p6",
   "language": "python",
   "name": "other-env"
  },
  "language_info": {
   "codemirror_mode": {
    "name": "ipython",
    "version": 3
   },
   "file_extension": ".py",
   "mimetype": "text/x-python",
   "name": "python",
   "nbconvert_exporter": "python",
   "pygments_lexer": "ipython3",
   "version": "3.6.3"
  },
  "varInspector": {
   "cols": {
    "lenName": 16,
    "lenType": 16,
    "lenVar": 40
   },
   "kernels_config": {
    "python": {
     "delete_cmd_postfix": "",
     "delete_cmd_prefix": "del ",
     "library": "var_list.py",
     "varRefreshCmd": "print(var_dic_list())"
    },
    "r": {
     "delete_cmd_postfix": ") ",
     "delete_cmd_prefix": "rm(",
     "library": "var_list.r",
     "varRefreshCmd": "cat(var_dic_list()) "
    }
   },
   "types_to_exclude": [
    "module",
    "function",
    "builtin_function_or_method",
    "instance",
    "_Feature"
   ],
   "window_display": false
  }
 },
 "nbformat": 4,
 "nbformat_minor": 2
}
